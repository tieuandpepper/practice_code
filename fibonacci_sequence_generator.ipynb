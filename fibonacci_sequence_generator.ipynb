{
 "cells": [
  {
   "cell_type": "markdown",
   "metadata": {},
   "source": [
    "### **PROBLEM STATEMENT** ###\n",
    "\n",
    "Calculate a `Fibonacci numbers` F(n) based on n using `backtracking` and `dynamic programming`\n",
    "\n"
   ]
  },
  {
   "cell_type": "markdown",
   "metadata": {},
   "source": [
    "### Definition ###\n",
    "`Fibonacci number` F(n) is a number belong to a `Fibonacci sequence`:\n",
    "   * F(n) = F_(n-1) + F(n-2), with n > 2 (n is a natural number)\n",
    "   * F(0) = 0, F(1) = 1\n",
    "   \n",
    "*Examples*: 0, 1, 1, 2, 3, 5, 8, 13, 21, 34, 55, 89, 144, 233, 377, 610, 987, 1597, 2584, 4181\n"
   ]
  },
  {
   "cell_type": "code",
   "execution_count": 179,
   "metadata": {},
   "outputs": [],
   "source": [
    "import time\n",
    "\n",
    "def test_runtime(n, program, disp_result = True):\n",
    "    result = [0]*n\n",
    "    start_time = time.time()*(10**3)\n",
    "\n",
    "    for t in range(0,3):\n",
    "        for i in range(0,n):\n",
    "            result[i] = program(i)\n",
    "\n",
    "    end_time = time.time()*(10**3)\n",
    "    elapse_time = (end_time - start_time)/3\n",
    "    if disp_result:\n",
    "        print(\"Result:\\n\\t\",result)\n",
    "    \n",
    "    print(\"\\nTest's runtime: {} [ms]\".format((elapse_time)))"
   ]
  },
  {
   "cell_type": "markdown",
   "metadata": {},
   "source": [
    "### Backtracking ###\n",
    "* Create intial values for f(0)=0 and f(1)=1. The backtracking is terminated at these values\n",
    "* Backtracking: f(n) = f(n-1) + f(n-2)\n",
    "    * Calculate f(n-1)\n",
    "    * Calculate f(n-2)\n",
    "* return value"
   ]
  },
  {
   "cell_type": "code",
   "execution_count": 180,
   "metadata": {},
   "outputs": [],
   "source": [
    "def backtrack(n):\n",
    "    if n == 1 or n == 0:\n",
    "        return n\n",
    "    return backtrack(n-1) + backtrack(n-2)"
   ]
  },
  {
   "cell_type": "code",
   "execution_count": 181,
   "metadata": {},
   "outputs": [
    {
     "name": "stdout",
     "output_type": "stream",
     "text": [
      "\n",
      "Test's runtime: 3.487548828125 [ms]\n"
     ]
    }
   ],
   "source": [
    "test_runtime(20, backtrack, False)"
   ]
  },
  {
   "cell_type": "markdown",
   "metadata": {},
   "source": [
    "### Dynamic programming ###"
   ]
  },
  {
   "cell_type": "code",
   "execution_count": 182,
   "metadata": {},
   "outputs": [],
   "source": [
    "def dynamic(n):\n",
    "    if (n < 2): return n\n",
    "    seq = [0] * (n+1)\n",
    "    seq[1] = 1\n",
    "    for i in range(2,n+1):\n",
    "        seq[i] = seq[i-1] + seq[i-2]\n",
    "    return seq[n]"
   ]
  },
  {
   "cell_type": "code",
   "execution_count": 183,
   "metadata": {},
   "outputs": [
    {
     "name": "stdout",
     "output_type": "stream",
     "text": [
      "\n",
      "Test's runtime: 0.33251953125 [ms]\n"
     ]
    }
   ],
   "source": [
    "test_runtime(100, dynamic, False)"
   ]
  }
 ],
 "metadata": {
  "kernelspec": {
   "display_name": "Python 3",
   "language": "python",
   "name": "python3"
  },
  "language_info": {
   "codemirror_mode": {
    "name": "ipython",
    "version": 3
   },
   "file_extension": ".py",
   "mimetype": "text/x-python",
   "name": "python",
   "nbconvert_exporter": "python",
   "pygments_lexer": "ipython3",
   "version": "3.11.5"
  }
 },
 "nbformat": 4,
 "nbformat_minor": 2
}
