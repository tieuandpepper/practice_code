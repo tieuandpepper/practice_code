{
 "cells": [
  {
   "cell_type": "markdown",
   "metadata": {},
   "source": [
    "### **PROBLEM STATEMENT** ###\n",
    "\n",
    "Calculate a `Fibonacci numbers` F(n) based on n using `backtracking` and `dynamic programming`\n",
    "\n"
   ]
  },
  {
   "cell_type": "markdown",
   "metadata": {},
   "source": [
    "### Definition ###\n",
    "`Fibonacci number` F(n) is a number belong to a `Fibonacci sequence`:\n",
    "   * F(n) = F_(n-1) + F(n-2), with n > 2 (n is a natural number)\n",
    "   * F(0) = 0, F(1) = 1\n",
    "   \n",
    "*Examples*: 0, 1, 1, 2, 3, 5, 8, 13, 21, 34, 55, 89, 144, 233, 377, 610, 987, 1597, 2584, 4181\n"
   ]
  },
  {
   "cell_type": "code",
   "execution_count": 184,
   "metadata": {},
   "outputs": [],
   "source": [
    "import time\n",
    "\n",
    "def test_runtime(n, program, disp_result = True):\n",
    "    result = [0]*n\n",
    "    start_time = time.time()*(10**3)\n",
    "\n",
    "    for t in range(0,3):\n",
    "        for i in range(0,n):\n",
    "            result[i] = program(i)\n",
    "\n",
    "    end_time = time.time()*(10**3)\n",
    "    elapse_time = (end_time - start_time)/3\n",
    "    if disp_result:\n",
    "        print(\"Result:\\n\\t\",result)\n",
    "    \n",
    "    print(\"Test's runtime: {} [ms]\".format((elapse_time)))"
   ]
  },
  {
   "cell_type": "markdown",
   "metadata": {},
   "source": [
    "### Backtracking ###\n",
    "* Create intial values for f(0)=0 and f(1)=1. The backtracking is terminated at these values\n",
    "* Backtracking: f(n) = f(n-1) + f(n-2)\n",
    "    * Calculate f(n-1)\n",
    "    * Calculate f(n-2)\n",
    "* return value"
   ]
  },
  {
   "cell_type": "code",
   "execution_count": 185,
   "metadata": {},
   "outputs": [],
   "source": [
    "def backtrack(n):\n",
    "    if n == 1 or n == 0:\n",
    "        return n\n",
    "    return backtrack(n-1) + backtrack(n-2)"
   ]
  },
  {
   "cell_type": "code",
   "execution_count": 186,
   "metadata": {},
   "outputs": [
    {
     "name": "stdout",
     "output_type": "stream",
     "text": [
      "Result:\n",
      "\t [0, 1, 1, 2, 3, 5, 8, 13, 21, 34, 55, 89, 144, 233, 377, 610, 987, 1597, 2584, 4181]\n",
      "Test's runtime: 2.9917805989583335 [ms]\n"
     ]
    }
   ],
   "source": [
    "test_runtime(20, backtrack, True)"
   ]
  },
  {
   "cell_type": "markdown",
   "metadata": {},
   "source": [
    "### Dynamic programming ###"
   ]
  },
  {
   "cell_type": "code",
   "execution_count": 187,
   "metadata": {},
   "outputs": [],
   "source": [
    "def dynamic(n):\n",
    "    if (n < 2): return n\n",
    "    seq = [0] * (n+1)\n",
    "    seq[1] = 1\n",
    "    for i in range(2,n+1):\n",
    "        seq[i] = seq[i-1] + seq[i-2]\n",
    "    return seq[n]"
   ]
  },
  {
   "cell_type": "code",
   "execution_count": 191,
   "metadata": {},
   "outputs": [
    {
     "name": "stdout",
     "output_type": "stream",
     "text": [
      "Result:\n",
      "\t [0, 1, 1, 2, 3, 5, 8, 13, 21, 34, 55, 89, 144, 233, 377, 610, 987, 1597, 2584, 4181, 6765, 10946, 17711, 28657, 46368, 75025, 121393, 196418, 317811, 514229, 832040, 1346269, 2178309, 3524578, 5702887, 9227465, 14930352, 24157817, 39088169, 63245986, 102334155, 165580141, 267914296, 433494437, 701408733, 1134903170, 1836311903, 2971215073, 4807526976, 7778742049, 12586269025, 20365011074, 32951280099, 53316291173, 86267571272, 139583862445, 225851433717, 365435296162, 591286729879, 956722026041, 1548008755920, 2504730781961, 4052739537881, 6557470319842, 10610209857723, 17167680177565, 27777890035288, 44945570212853, 72723460248141, 117669030460994, 190392490709135, 308061521170129, 498454011879264, 806515533049393, 1304969544928657, 2111485077978050, 3416454622906707, 5527939700884757, 8944394323791464, 14472334024676221, 23416728348467685, 37889062373143906, 61305790721611591, 99194853094755497, 160500643816367088, 259695496911122585, 420196140727489673, 679891637638612258, 1100087778366101931, 1779979416004714189, 2880067194370816120, 4660046610375530309, 7540113804746346429, 12200160415121876738, 19740274219868223167, 31940434634990099905, 51680708854858323072, 83621143489848422977, 135301852344706746049, 218922995834555169026]\n",
      "Test's runtime: 0.513916015625 [ms]\n"
     ]
    }
   ],
   "source": [
    "test_runtime(100, dynamic, True)"
   ]
  },
  {
   "cell_type": "code",
   "execution_count": null,
   "metadata": {},
   "outputs": [],
   "source": []
  }
 ],
 "metadata": {
  "kernelspec": {
   "display_name": "Python 3",
   "language": "python",
   "name": "python3"
  },
  "language_info": {
   "codemirror_mode": {
    "name": "ipython",
    "version": 3
   },
   "file_extension": ".py",
   "mimetype": "text/x-python",
   "name": "python",
   "nbconvert_exporter": "python",
   "pygments_lexer": "ipython3",
   "version": "3.11.5"
  }
 },
 "nbformat": 4,
 "nbformat_minor": 2
}
