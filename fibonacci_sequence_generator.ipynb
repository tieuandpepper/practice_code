{
 "cells": [
  {
   "cell_type": "markdown",
   "metadata": {},
   "source": [
    "### **PROBLEM STATEMENT** ###\n",
    "\n",
    "Calculate a `Fibonacci numbers` F(n) based on n using `backtracking` and `dynamic programming`\n",
    "\n"
   ]
  },
  {
   "cell_type": "markdown",
   "metadata": {},
   "source": [
    "### Definition ###\n",
    "`Fibonacci number` F(n) is a number belong to a `Fibonacci sequence`:\n",
    "   * F(n) = F_(n-1) + F(n-2), with n > 2 (n is a natural number)\n",
    "   * F(0) = 0, F(1) = 1\n",
    "   \n",
    "*Examples*: 0, 1, 1, 2, 3, 5, 8, 13, 21, 34, 55, 89, 144, 233, 377, 610, 987, 1597, 2584, 4181\n"
   ]
  },
  {
   "cell_type": "markdown",
   "metadata": {},
   "source": [
    "### Backtracking ###\n",
    "* Create intial values for f(0)=0 and f(1)=1. The backtracking is terminated at these values\n",
    "* Backtracking: f(n) = f(n-1) + f(n-2)\n",
    "    * Calculate f(n-1)\n",
    "    * Calculate f(n-2)\n",
    "* return value"
   ]
  },
  {
   "cell_type": "code",
   "execution_count": 1,
   "metadata": {},
   "outputs": [],
   "source": [
    "def backtrack(n):\n",
    "    if n == 1 or n == 0:\n",
    "        return n\n",
    "    return backtrack(n-1) + backtrack(n-2)"
   ]
  },
  {
   "cell_type": "code",
   "execution_count": 4,
   "metadata": {},
   "outputs": [
    {
     "name": "stdout",
     "output_type": "stream",
     "text": [
      "0 1 1 2 3 5 8 13 21 34 55 89 144 233 377 610 987 1597 2584 4181 "
     ]
    }
   ],
   "source": [
    "for i in range(0,20):\n",
    "    print(backtrack(i), end= \" \")"
   ]
  },
  {
   "cell_type": "code",
   "execution_count": null,
   "metadata": {},
   "outputs": [],
   "source": []
  }
 ],
 "metadata": {
  "kernelspec": {
   "display_name": "Python 3",
   "language": "python",
   "name": "python3"
  },
  "language_info": {
   "codemirror_mode": {
    "name": "ipython",
    "version": 3
   },
   "file_extension": ".py",
   "mimetype": "text/x-python",
   "name": "python",
   "nbconvert_exporter": "python",
   "pygments_lexer": "ipython3",
   "version": "3.11.5"
  }
 },
 "nbformat": 4,
 "nbformat_minor": 2
}
